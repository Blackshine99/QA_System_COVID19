{
 "cells": [
  {
   "cell_type": "code",
   "execution_count": 3,
   "metadata": {},
   "outputs": [],
   "source": [
    "import pandas as pd"
   ]
  },
  {
   "cell_type": "code",
   "execution_count": 4,
   "metadata": {},
   "outputs": [],
   "source": [
    "df1 = pd.read_csv('final_master_dataset.csv')\n",
    "df2 = pd.read_csv('NLP DATASET.csv')\n",
    "df3 = pd.read_csv('Scraped_questions.csv')"
   ]
  },
  {
   "cell_type": "markdown",
   "metadata": {},
   "source": [
    "## Preparing the first dataframe"
   ]
  },
  {
   "cell_type": "code",
   "execution_count": 5,
   "metadata": {},
   "outputs": [
    {
     "data": {
      "text/html": [
       "<div>\n",
       "<style scoped>\n",
       "    .dataframe tbody tr th:only-of-type {\n",
       "        vertical-align: middle;\n",
       "    }\n",
       "\n",
       "    .dataframe tbody tr th {\n",
       "        vertical-align: top;\n",
       "    }\n",
       "\n",
       "    .dataframe thead th {\n",
       "        text-align: right;\n",
       "    }\n",
       "</style>\n",
       "<table border=\"1\" class=\"dataframe\">\n",
       "  <thead>\n",
       "    <tr style=\"text-align: right;\">\n",
       "      <th></th>\n",
       "      <th>Category</th>\n",
       "      <th>Question ID</th>\n",
       "      <th>Question</th>\n",
       "      <th>Source</th>\n",
       "      <th>Answers</th>\n",
       "    </tr>\n",
       "  </thead>\n",
       "  <tbody>\n",
       "    <tr>\n",
       "      <th>0</th>\n",
       "      <td>Speculation - Pandemic Duration</td>\n",
       "      <td>42</td>\n",
       "      <td>will covid end soon</td>\n",
       "      <td>Google Search</td>\n",
       "      <td>may 1st, i think, is completely unrealistic, s...</td>\n",
       "    </tr>\n",
       "    <tr>\n",
       "      <th>1</th>\n",
       "      <td>Speculation - Pandemic Duration</td>\n",
       "      <td>42</td>\n",
       "      <td>will covid end</td>\n",
       "      <td>Yahoo Search</td>\n",
       "      <td>may 1st, i think, is completely unrealistic, s...</td>\n",
       "    </tr>\n",
       "    <tr>\n",
       "      <th>2</th>\n",
       "      <td>Speculation - Pandemic Duration</td>\n",
       "      <td>42</td>\n",
       "      <td>when covid will be over</td>\n",
       "      <td>Google Search</td>\n",
       "      <td>may 1st, i think, is completely unrealistic, s...</td>\n",
       "    </tr>\n",
       "    <tr>\n",
       "      <th>3</th>\n",
       "      <td>Speculation - Pandemic Duration</td>\n",
       "      <td>42</td>\n",
       "      <td>when covid lockdown ends</td>\n",
       "      <td>Google Search</td>\n",
       "      <td>may 1st, i think, is completely unrealistic, s...</td>\n",
       "    </tr>\n",
       "    <tr>\n",
       "      <th>4</th>\n",
       "      <td>Speculation - Pandemic Duration</td>\n",
       "      <td>42</td>\n",
       "      <td>will covid go away</td>\n",
       "      <td>Google Search</td>\n",
       "      <td>may 1st, i think, is completely unrealistic, s...</td>\n",
       "    </tr>\n",
       "    <tr>\n",
       "      <th>5</th>\n",
       "      <td>Speculation - Pandemic Duration</td>\n",
       "      <td>42</td>\n",
       "      <td>when covid will end</td>\n",
       "      <td>Yahoo Search</td>\n",
       "      <td>may 1st, i think, is completely unrealistic, s...</td>\n",
       "    </tr>\n",
       "    <tr>\n",
       "      <th>6</th>\n",
       "      <td>Speculation - Pandemic Duration</td>\n",
       "      <td>42</td>\n",
       "      <td>will covid ever go away</td>\n",
       "      <td>Google Search</td>\n",
       "      <td>may 1st, i think, is completely unrealistic, s...</td>\n",
       "    </tr>\n",
       "    <tr>\n",
       "      <th>7</th>\n",
       "      <td>Speculation - Pandemic Duration</td>\n",
       "      <td>42</td>\n",
       "      <td>when covid over</td>\n",
       "      <td>Google Search</td>\n",
       "      <td>may 1st, i think, is completely unrealistic, s...</td>\n",
       "    </tr>\n",
       "    <tr>\n",
       "      <th>8</th>\n",
       "      <td>Speculation - Pandemic Duration</td>\n",
       "      <td>42</td>\n",
       "      <td>will covid ever end</td>\n",
       "      <td>Bing Search</td>\n",
       "      <td>may 1st, i think, is completely unrealistic, s...</td>\n",
       "    </tr>\n",
       "    <tr>\n",
       "      <th>9</th>\n",
       "      <td>Speculation - Pandemic Duration</td>\n",
       "      <td>42</td>\n",
       "      <td>when covid ends</td>\n",
       "      <td>Yahoo Search</td>\n",
       "      <td>may 1st, i think, is completely unrealistic, s...</td>\n",
       "    </tr>\n",
       "  </tbody>\n",
       "</table>\n",
       "</div>"
      ],
      "text/plain": [
       "                          Category  Question ID                  Question  \\\n",
       "0  Speculation - Pandemic Duration           42       will covid end soon   \n",
       "1  Speculation - Pandemic Duration           42            will covid end   \n",
       "2  Speculation - Pandemic Duration           42   when covid will be over   \n",
       "3  Speculation - Pandemic Duration           42  when covid lockdown ends   \n",
       "4  Speculation - Pandemic Duration           42        will covid go away   \n",
       "5  Speculation - Pandemic Duration           42       when covid will end   \n",
       "6  Speculation - Pandemic Duration           42   will covid ever go away   \n",
       "7  Speculation - Pandemic Duration           42           when covid over   \n",
       "8  Speculation - Pandemic Duration           42       will covid ever end   \n",
       "9  Speculation - Pandemic Duration           42           when covid ends   \n",
       "\n",
       "          Source                                            Answers  \n",
       "0  Google Search  may 1st, i think, is completely unrealistic, s...  \n",
       "1   Yahoo Search  may 1st, i think, is completely unrealistic, s...  \n",
       "2  Google Search  may 1st, i think, is completely unrealistic, s...  \n",
       "3  Google Search  may 1st, i think, is completely unrealistic, s...  \n",
       "4  Google Search  may 1st, i think, is completely unrealistic, s...  \n",
       "5   Yahoo Search  may 1st, i think, is completely unrealistic, s...  \n",
       "6  Google Search  may 1st, i think, is completely unrealistic, s...  \n",
       "7  Google Search  may 1st, i think, is completely unrealistic, s...  \n",
       "8    Bing Search  may 1st, i think, is completely unrealistic, s...  \n",
       "9   Yahoo Search  may 1st, i think, is completely unrealistic, s...  "
      ]
     },
     "execution_count": 5,
     "metadata": {},
     "output_type": "execute_result"
    }
   ],
   "source": [
    "df1.head(10)"
   ]
  },
  {
   "cell_type": "code",
   "execution_count": 6,
   "metadata": {},
   "outputs": [],
   "source": [
    "df1_ = df1[['Question ID', 'Question', 'Answers']].dropna()"
   ]
  },
  {
   "cell_type": "code",
   "execution_count": 7,
   "metadata": {},
   "outputs": [],
   "source": [
    "df1_['Question'] = df1_.groupby(['Question ID'])['Question'].transform(lambda x : ' / '.join(x).split('/')[0])\n",
    "df1_ = df1_.drop(['Question ID'], axis = 1)"
   ]
  },
  {
   "cell_type": "code",
   "execution_count": 8,
   "metadata": {},
   "outputs": [
    {
     "name": "stdout",
     "output_type": "stream",
     "text": [
      "(847, 2)\n"
     ]
    },
    {
     "data": {
      "text/html": [
       "<div>\n",
       "<style scoped>\n",
       "    .dataframe tbody tr th:only-of-type {\n",
       "        vertical-align: middle;\n",
       "    }\n",
       "\n",
       "    .dataframe tbody tr th {\n",
       "        vertical-align: top;\n",
       "    }\n",
       "\n",
       "    .dataframe thead th {\n",
       "        text-align: right;\n",
       "    }\n",
       "</style>\n",
       "<table border=\"1\" class=\"dataframe\">\n",
       "  <thead>\n",
       "    <tr style=\"text-align: right;\">\n",
       "      <th></th>\n",
       "      <th>Question</th>\n",
       "      <th>Answers</th>\n",
       "    </tr>\n",
       "  </thead>\n",
       "  <tbody>\n",
       "    <tr>\n",
       "      <th>0</th>\n",
       "      <td>will covid end soon</td>\n",
       "      <td>may 1st, i think, is completely unrealistic, s...</td>\n",
       "    </tr>\n",
       "    <tr>\n",
       "      <th>1</th>\n",
       "      <td>will covid end soon</td>\n",
       "      <td>may 1st, i think, is completely unrealistic, s...</td>\n",
       "    </tr>\n",
       "    <tr>\n",
       "      <th>2</th>\n",
       "      <td>will covid end soon</td>\n",
       "      <td>may 1st, i think, is completely unrealistic, s...</td>\n",
       "    </tr>\n",
       "    <tr>\n",
       "      <th>3</th>\n",
       "      <td>will covid end soon</td>\n",
       "      <td>may 1st, i think, is completely unrealistic, s...</td>\n",
       "    </tr>\n",
       "    <tr>\n",
       "      <th>4</th>\n",
       "      <td>will covid end soon</td>\n",
       "      <td>may 1st, i think, is completely unrealistic, s...</td>\n",
       "    </tr>\n",
       "  </tbody>\n",
       "</table>\n",
       "</div>"
      ],
      "text/plain": [
       "               Question                                            Answers\n",
       "0  will covid end soon   may 1st, i think, is completely unrealistic, s...\n",
       "1  will covid end soon   may 1st, i think, is completely unrealistic, s...\n",
       "2  will covid end soon   may 1st, i think, is completely unrealistic, s...\n",
       "3  will covid end soon   may 1st, i think, is completely unrealistic, s...\n",
       "4  will covid end soon   may 1st, i think, is completely unrealistic, s..."
      ]
     },
     "execution_count": 8,
     "metadata": {},
     "output_type": "execute_result"
    }
   ],
   "source": [
    "print(df1_.shape)\n",
    "df1_.head()"
   ]
  },
  {
   "cell_type": "code",
   "execution_count": 9,
   "metadata": {},
   "outputs": [],
   "source": [
    "df1_ = df1_.drop_duplicates().reset_index(drop=True)"
   ]
  },
  {
   "cell_type": "code",
   "execution_count": 10,
   "metadata": {},
   "outputs": [],
   "source": [
    "for idx, q in enumerate(df1_['Question']):\n",
    "    df1_['Question'].iloc[idx] = q + '?'"
   ]
  },
  {
   "cell_type": "code",
   "execution_count": 11,
   "metadata": {},
   "outputs": [
    {
     "data": {
      "text/html": [
       "<div>\n",
       "<style scoped>\n",
       "    .dataframe tbody tr th:only-of-type {\n",
       "        vertical-align: middle;\n",
       "    }\n",
       "\n",
       "    .dataframe tbody tr th {\n",
       "        vertical-align: top;\n",
       "    }\n",
       "\n",
       "    .dataframe thead th {\n",
       "        text-align: right;\n",
       "    }\n",
       "</style>\n",
       "<table border=\"1\" class=\"dataframe\">\n",
       "  <thead>\n",
       "    <tr style=\"text-align: right;\">\n",
       "      <th></th>\n",
       "      <th>Question</th>\n",
       "      <th>Answers</th>\n",
       "    </tr>\n",
       "  </thead>\n",
       "  <tbody>\n",
       "    <tr>\n",
       "      <th>0</th>\n",
       "      <td>will covid end soon ?</td>\n",
       "      <td>may 1st, i think, is completely unrealistic, s...</td>\n",
       "    </tr>\n",
       "    <tr>\n",
       "      <th>1</th>\n",
       "      <td>who is at higher risk ?</td>\n",
       "      <td>older adults and people of any age who have se...</td>\n",
       "    </tr>\n",
       "    <tr>\n",
       "      <th>2</th>\n",
       "      <td>does covid live on clothes ?</td>\n",
       "      <td>although the new covid weakens and dies over t...</td>\n",
       "    </tr>\n",
       "    <tr>\n",
       "      <th>3</th>\n",
       "      <td>what covid means ?</td>\n",
       "      <td>corona means crown, and covides have a crown o...</td>\n",
       "    </tr>\n",
       "    <tr>\n",
       "      <th>4</th>\n",
       "      <td>why covid is worse in us ?</td>\n",
       "      <td>experts say its due to cuts in federal funding...</td>\n",
       "    </tr>\n",
       "  </tbody>\n",
       "</table>\n",
       "</div>"
      ],
      "text/plain": [
       "                       Question  \\\n",
       "0         will covid end soon ?   \n",
       "1       who is at higher risk ?   \n",
       "2  does covid live on clothes ?   \n",
       "3            what covid means ?   \n",
       "4    why covid is worse in us ?   \n",
       "\n",
       "                                             Answers  \n",
       "0  may 1st, i think, is completely unrealistic, s...  \n",
       "1  older adults and people of any age who have se...  \n",
       "2  although the new covid weakens and dies over t...  \n",
       "3  corona means crown, and covides have a crown o...  \n",
       "4  experts say its due to cuts in federal funding...  "
      ]
     },
     "execution_count": 11,
     "metadata": {},
     "output_type": "execute_result"
    }
   ],
   "source": [
    "df1_.head()"
   ]
  },
  {
   "cell_type": "code",
   "execution_count": 12,
   "metadata": {},
   "outputs": [
    {
     "data": {
      "text/plain": [
       "(245, 2)"
      ]
     },
     "execution_count": 12,
     "metadata": {},
     "output_type": "execute_result"
    }
   ],
   "source": [
    "df1_.shape"
   ]
  },
  {
   "cell_type": "markdown",
   "metadata": {},
   "source": [
    "## Preparing the second dataframe"
   ]
  },
  {
   "cell_type": "code",
   "execution_count": 13,
   "metadata": {},
   "outputs": [
    {
     "data": {
      "text/html": [
       "<div>\n",
       "<style scoped>\n",
       "    .dataframe tbody tr th:only-of-type {\n",
       "        vertical-align: middle;\n",
       "    }\n",
       "\n",
       "    .dataframe tbody tr th {\n",
       "        vertical-align: top;\n",
       "    }\n",
       "\n",
       "    .dataframe thead th {\n",
       "        text-align: right;\n",
       "    }\n",
       "</style>\n",
       "<table border=\"1\" class=\"dataframe\">\n",
       "  <thead>\n",
       "    <tr style=\"text-align: right;\">\n",
       "      <th></th>\n",
       "      <th>Question</th>\n",
       "      <th>Answer</th>\n",
       "    </tr>\n",
       "  </thead>\n",
       "  <tbody>\n",
       "    <tr>\n",
       "      <th>0</th>\n",
       "      <td>What is a novel coronavirus?</td>\n",
       "      <td>A novel coronavirus is a new coronavirus that ...</td>\n",
       "    </tr>\n",
       "    <tr>\n",
       "      <th>1</th>\n",
       "      <td>Why is the disease being called coronavirus di...</td>\n",
       "      <td>On February 11, 2020 the World Health Organiza...</td>\n",
       "    </tr>\n",
       "    <tr>\n",
       "      <th>2</th>\n",
       "      <td>How does the virus spread?</td>\n",
       "      <td>The virus that causes COVID-19 is thought to s...</td>\n",
       "    </tr>\n",
       "    <tr>\n",
       "      <th>3</th>\n",
       "      <td>Can I get COVID-19 from food (including restau...</td>\n",
       "      <td>Currently there is no evidence that people can...</td>\n",
       "    </tr>\n",
       "    <tr>\n",
       "      <th>4</th>\n",
       "      <td>Will warm weather stop the outbreak of COVID-19?</td>\n",
       "      <td>It is not yet known whether weather and temper...</td>\n",
       "    </tr>\n",
       "  </tbody>\n",
       "</table>\n",
       "</div>"
      ],
      "text/plain": [
       "                                            Question  \\\n",
       "0                       What is a novel coronavirus?   \n",
       "1  Why is the disease being called coronavirus di...   \n",
       "2                         How does the virus spread?   \n",
       "3  Can I get COVID-19 from food (including restau...   \n",
       "4   Will warm weather stop the outbreak of COVID-19?   \n",
       "\n",
       "                                              Answer  \n",
       "0  A novel coronavirus is a new coronavirus that ...  \n",
       "1  On February 11, 2020 the World Health Organiza...  \n",
       "2  The virus that causes COVID-19 is thought to s...  \n",
       "3  Currently there is no evidence that people can...  \n",
       "4  It is not yet known whether weather and temper...  "
      ]
     },
     "execution_count": 13,
     "metadata": {},
     "output_type": "execute_result"
    }
   ],
   "source": [
    "df2.head()"
   ]
  },
  {
   "cell_type": "code",
   "execution_count": 14,
   "metadata": {},
   "outputs": [],
   "source": [
    "df2.columns = ['Question', 'Answers']"
   ]
  },
  {
   "cell_type": "code",
   "execution_count": 15,
   "metadata": {},
   "outputs": [
    {
     "data": {
      "text/html": [
       "<div>\n",
       "<style scoped>\n",
       "    .dataframe tbody tr th:only-of-type {\n",
       "        vertical-align: middle;\n",
       "    }\n",
       "\n",
       "    .dataframe tbody tr th {\n",
       "        vertical-align: top;\n",
       "    }\n",
       "\n",
       "    .dataframe thead th {\n",
       "        text-align: right;\n",
       "    }\n",
       "</style>\n",
       "<table border=\"1\" class=\"dataframe\">\n",
       "  <thead>\n",
       "    <tr style=\"text-align: right;\">\n",
       "      <th></th>\n",
       "      <th>Question</th>\n",
       "      <th>Answers</th>\n",
       "    </tr>\n",
       "  </thead>\n",
       "  <tbody>\n",
       "    <tr>\n",
       "      <th>0</th>\n",
       "      <td>What is a novel coronavirus?</td>\n",
       "      <td>A novel coronavirus is a new coronavirus that ...</td>\n",
       "    </tr>\n",
       "    <tr>\n",
       "      <th>1</th>\n",
       "      <td>Why is the disease being called coronavirus di...</td>\n",
       "      <td>On February 11, 2020 the World Health Organiza...</td>\n",
       "    </tr>\n",
       "    <tr>\n",
       "      <th>2</th>\n",
       "      <td>How does the virus spread?</td>\n",
       "      <td>The virus that causes COVID-19 is thought to s...</td>\n",
       "    </tr>\n",
       "    <tr>\n",
       "      <th>3</th>\n",
       "      <td>Can I get COVID-19 from food (including restau...</td>\n",
       "      <td>Currently there is no evidence that people can...</td>\n",
       "    </tr>\n",
       "    <tr>\n",
       "      <th>4</th>\n",
       "      <td>Will warm weather stop the outbreak of COVID-19?</td>\n",
       "      <td>It is not yet known whether weather and temper...</td>\n",
       "    </tr>\n",
       "  </tbody>\n",
       "</table>\n",
       "</div>"
      ],
      "text/plain": [
       "                                            Question  \\\n",
       "0                       What is a novel coronavirus?   \n",
       "1  Why is the disease being called coronavirus di...   \n",
       "2                         How does the virus spread?   \n",
       "3  Can I get COVID-19 from food (including restau...   \n",
       "4   Will warm weather stop the outbreak of COVID-19?   \n",
       "\n",
       "                                             Answers  \n",
       "0  A novel coronavirus is a new coronavirus that ...  \n",
       "1  On February 11, 2020 the World Health Organiza...  \n",
       "2  The virus that causes COVID-19 is thought to s...  \n",
       "3  Currently there is no evidence that people can...  \n",
       "4  It is not yet known whether weather and temper...  "
      ]
     },
     "execution_count": 15,
     "metadata": {},
     "output_type": "execute_result"
    }
   ],
   "source": [
    "df2.head()"
   ]
  },
  {
   "cell_type": "code",
   "execution_count": 16,
   "metadata": {},
   "outputs": [
    {
     "data": {
      "text/plain": [
       "(380, 2)"
      ]
     },
     "execution_count": 16,
     "metadata": {},
     "output_type": "execute_result"
    }
   ],
   "source": [
    "df2.shape"
   ]
  },
  {
   "cell_type": "markdown",
   "metadata": {},
   "source": [
    "## Preparing the third dataframe"
   ]
  },
  {
   "cell_type": "code",
   "execution_count": 17,
   "metadata": {},
   "outputs": [
    {
     "data": {
      "text/html": [
       "<div>\n",
       "<style scoped>\n",
       "    .dataframe tbody tr th:only-of-type {\n",
       "        vertical-align: middle;\n",
       "    }\n",
       "\n",
       "    .dataframe tbody tr th {\n",
       "        vertical-align: top;\n",
       "    }\n",
       "\n",
       "    .dataframe thead th {\n",
       "        text-align: right;\n",
       "    }\n",
       "</style>\n",
       "<table border=\"1\" class=\"dataframe\">\n",
       "  <thead>\n",
       "    <tr style=\"text-align: right;\">\n",
       "      <th></th>\n",
       "      <th>Unnamed: 0</th>\n",
       "      <th>question</th>\n",
       "      <th>answer</th>\n",
       "    </tr>\n",
       "  </thead>\n",
       "  <tbody>\n",
       "    <tr>\n",
       "      <th>0</th>\n",
       "      <td>0</td>\n",
       "      <td>What is the incubation period of the virus?</td>\n",
       "      <td>Longitudinal analysis of laboratory findings d...</td>\n",
       "    </tr>\n",
       "    <tr>\n",
       "      <th>1</th>\n",
       "      <td>1</td>\n",
       "      <td>What is the length of viral shedding after ill...</td>\n",
       "      <td>Viral Kinetics and Antibody Responses in Patie...</td>\n",
       "    </tr>\n",
       "    <tr>\n",
       "      <th>2</th>\n",
       "      <td>2</td>\n",
       "      <td>What is the incubation period across different...</td>\n",
       "      <td>Children are unlikely to have been the primary...</td>\n",
       "    </tr>\n",
       "    <tr>\n",
       "      <th>3</th>\n",
       "      <td>3</td>\n",
       "      <td>What is the proportion of patients who were as...</td>\n",
       "      <td>A considerable proportion of individuals with ...</td>\n",
       "    </tr>\n",
       "    <tr>\n",
       "      <th>4</th>\n",
       "      <td>4</td>\n",
       "      <td>What is the proportion of pediatric patients w...</td>\n",
       "      <td>Epidemiological and Clinical Characteristics o...</td>\n",
       "    </tr>\n",
       "  </tbody>\n",
       "</table>\n",
       "</div>"
      ],
      "text/plain": [
       "   Unnamed: 0                                           question  \\\n",
       "0           0        What is the incubation period of the virus?   \n",
       "1           1  What is the length of viral shedding after ill...   \n",
       "2           2  What is the incubation period across different...   \n",
       "3           3  What is the proportion of patients who were as...   \n",
       "4           4  What is the proportion of pediatric patients w...   \n",
       "\n",
       "                                              answer  \n",
       "0  Longitudinal analysis of laboratory findings d...  \n",
       "1  Viral Kinetics and Antibody Responses in Patie...  \n",
       "2  Children are unlikely to have been the primary...  \n",
       "3  A considerable proportion of individuals with ...  \n",
       "4  Epidemiological and Clinical Characteristics o...  "
      ]
     },
     "execution_count": 17,
     "metadata": {},
     "output_type": "execute_result"
    }
   ],
   "source": [
    "df3.head()"
   ]
  },
  {
   "cell_type": "code",
   "execution_count": 18,
   "metadata": {},
   "outputs": [],
   "source": [
    "df3 = df3.drop(['Unnamed: 0'], axis = 1)"
   ]
  },
  {
   "cell_type": "code",
   "execution_count": 19,
   "metadata": {},
   "outputs": [],
   "source": [
    "df3.columns = ['Question', 'Answers']"
   ]
  },
  {
   "cell_type": "code",
   "execution_count": 20,
   "metadata": {},
   "outputs": [
    {
     "data": {
      "text/html": [
       "<div>\n",
       "<style scoped>\n",
       "    .dataframe tbody tr th:only-of-type {\n",
       "        vertical-align: middle;\n",
       "    }\n",
       "\n",
       "    .dataframe tbody tr th {\n",
       "        vertical-align: top;\n",
       "    }\n",
       "\n",
       "    .dataframe thead th {\n",
       "        text-align: right;\n",
       "    }\n",
       "</style>\n",
       "<table border=\"1\" class=\"dataframe\">\n",
       "  <thead>\n",
       "    <tr style=\"text-align: right;\">\n",
       "      <th></th>\n",
       "      <th>Question</th>\n",
       "      <th>Answers</th>\n",
       "    </tr>\n",
       "  </thead>\n",
       "  <tbody>\n",
       "    <tr>\n",
       "      <th>0</th>\n",
       "      <td>What is the incubation period of the virus?</td>\n",
       "      <td>Longitudinal analysis of laboratory findings d...</td>\n",
       "    </tr>\n",
       "    <tr>\n",
       "      <th>1</th>\n",
       "      <td>What is the length of viral shedding after ill...</td>\n",
       "      <td>Viral Kinetics and Antibody Responses in Patie...</td>\n",
       "    </tr>\n",
       "    <tr>\n",
       "      <th>2</th>\n",
       "      <td>What is the incubation period across different...</td>\n",
       "      <td>Children are unlikely to have been the primary...</td>\n",
       "    </tr>\n",
       "    <tr>\n",
       "      <th>3</th>\n",
       "      <td>What is the proportion of patients who were as...</td>\n",
       "      <td>A considerable proportion of individuals with ...</td>\n",
       "    </tr>\n",
       "    <tr>\n",
       "      <th>4</th>\n",
       "      <td>What is the proportion of pediatric patients w...</td>\n",
       "      <td>Epidemiological and Clinical Characteristics o...</td>\n",
       "    </tr>\n",
       "  </tbody>\n",
       "</table>\n",
       "</div>"
      ],
      "text/plain": [
       "                                            Question  \\\n",
       "0        What is the incubation period of the virus?   \n",
       "1  What is the length of viral shedding after ill...   \n",
       "2  What is the incubation period across different...   \n",
       "3  What is the proportion of patients who were as...   \n",
       "4  What is the proportion of pediatric patients w...   \n",
       "\n",
       "                                             Answers  \n",
       "0  Longitudinal analysis of laboratory findings d...  \n",
       "1  Viral Kinetics and Antibody Responses in Patie...  \n",
       "2  Children are unlikely to have been the primary...  \n",
       "3  A considerable proportion of individuals with ...  \n",
       "4  Epidemiological and Clinical Characteristics o...  "
      ]
     },
     "execution_count": 20,
     "metadata": {},
     "output_type": "execute_result"
    }
   ],
   "source": [
    "df3.head()"
   ]
  },
  {
   "cell_type": "markdown",
   "metadata": {},
   "source": [
    "## Merging the dataframes"
   ]
  },
  {
   "cell_type": "code",
   "execution_count": 21,
   "metadata": {},
   "outputs": [],
   "source": [
    "final_dataset = pd.concat([df1_, df2, df3]).reset_index(drop = True)"
   ]
  },
  {
   "cell_type": "code",
   "execution_count": 40,
   "metadata": {},
   "outputs": [
    {
     "data": {
      "text/html": [
       "<div>\n",
       "<style scoped>\n",
       "    .dataframe tbody tr th:only-of-type {\n",
       "        vertical-align: middle;\n",
       "    }\n",
       "\n",
       "    .dataframe tbody tr th {\n",
       "        vertical-align: top;\n",
       "    }\n",
       "\n",
       "    .dataframe thead th {\n",
       "        text-align: right;\n",
       "    }\n",
       "</style>\n",
       "<table border=\"1\" class=\"dataframe\">\n",
       "  <thead>\n",
       "    <tr style=\"text-align: right;\">\n",
       "      <th></th>\n",
       "      <th>Question</th>\n",
       "      <th>Answers</th>\n",
       "    </tr>\n",
       "  </thead>\n",
       "  <tbody>\n",
       "    <tr>\n",
       "      <th>0</th>\n",
       "      <td>will covid end soon ?</td>\n",
       "      <td>may 1st, i think, is completely unrealistic, s...</td>\n",
       "    </tr>\n",
       "    <tr>\n",
       "      <th>1</th>\n",
       "      <td>who is at higher risk ?</td>\n",
       "      <td>older adults and people of any age who have se...</td>\n",
       "    </tr>\n",
       "    <tr>\n",
       "      <th>2</th>\n",
       "      <td>does covid live on clothes ?</td>\n",
       "      <td>although the new covid weakens and dies over t...</td>\n",
       "    </tr>\n",
       "    <tr>\n",
       "      <th>3</th>\n",
       "      <td>what covid means ?</td>\n",
       "      <td>corona means crown, and covides have a crown o...</td>\n",
       "    </tr>\n",
       "    <tr>\n",
       "      <th>4</th>\n",
       "      <td>why covid is worse in us ?</td>\n",
       "      <td>experts say its due to cuts in federal funding...</td>\n",
       "    </tr>\n",
       "  </tbody>\n",
       "</table>\n",
       "</div>"
      ],
      "text/plain": [
       "                       Question  \\\n",
       "0         will covid end soon ?   \n",
       "1       who is at higher risk ?   \n",
       "2  does covid live on clothes ?   \n",
       "3            what covid means ?   \n",
       "4    why covid is worse in us ?   \n",
       "\n",
       "                                             Answers  \n",
       "0  may 1st, i think, is completely unrealistic, s...  \n",
       "1  older adults and people of any age who have se...  \n",
       "2  although the new covid weakens and dies over t...  \n",
       "3  corona means crown, and covides have a crown o...  \n",
       "4  experts say its due to cuts in federal funding...  "
      ]
     },
     "execution_count": 40,
     "metadata": {},
     "output_type": "execute_result"
    }
   ],
   "source": [
    "final_dataset.head()"
   ]
  },
  {
   "cell_type": "code",
   "execution_count": 43,
   "metadata": {},
   "outputs": [],
   "source": [
    "for i, q in enumerate(final_dataset['Question']):\n",
    "    if q[-1] == '?':\n",
    "        q = q[:-1]\n",
    "    q.strip()\n",
    "    final_dataset['Question'].iloc[i] = q"
   ]
  },
  {
   "cell_type": "code",
   "execution_count": 44,
   "metadata": {},
   "outputs": [
    {
     "data": {
      "text/html": [
       "<div>\n",
       "<style scoped>\n",
       "    .dataframe tbody tr th:only-of-type {\n",
       "        vertical-align: middle;\n",
       "    }\n",
       "\n",
       "    .dataframe tbody tr th {\n",
       "        vertical-align: top;\n",
       "    }\n",
       "\n",
       "    .dataframe thead th {\n",
       "        text-align: right;\n",
       "    }\n",
       "</style>\n",
       "<table border=\"1\" class=\"dataframe\">\n",
       "  <thead>\n",
       "    <tr style=\"text-align: right;\">\n",
       "      <th></th>\n",
       "      <th>Question</th>\n",
       "      <th>Answers</th>\n",
       "    </tr>\n",
       "  </thead>\n",
       "  <tbody>\n",
       "    <tr>\n",
       "      <th>0</th>\n",
       "      <td>will covid end soon</td>\n",
       "      <td>may 1st, i think, is completely unrealistic, s...</td>\n",
       "    </tr>\n",
       "    <tr>\n",
       "      <th>1</th>\n",
       "      <td>who is at higher risk</td>\n",
       "      <td>older adults and people of any age who have se...</td>\n",
       "    </tr>\n",
       "    <tr>\n",
       "      <th>2</th>\n",
       "      <td>does covid live on clothes</td>\n",
       "      <td>although the new covid weakens and dies over t...</td>\n",
       "    </tr>\n",
       "    <tr>\n",
       "      <th>3</th>\n",
       "      <td>what covid means</td>\n",
       "      <td>corona means crown, and covides have a crown o...</td>\n",
       "    </tr>\n",
       "    <tr>\n",
       "      <th>4</th>\n",
       "      <td>why covid is worse in us</td>\n",
       "      <td>experts say its due to cuts in federal funding...</td>\n",
       "    </tr>\n",
       "  </tbody>\n",
       "</table>\n",
       "</div>"
      ],
      "text/plain": [
       "                      Question  \\\n",
       "0         will covid end soon    \n",
       "1       who is at higher risk    \n",
       "2  does covid live on clothes    \n",
       "3            what covid means    \n",
       "4    why covid is worse in us    \n",
       "\n",
       "                                             Answers  \n",
       "0  may 1st, i think, is completely unrealistic, s...  \n",
       "1  older adults and people of any age who have se...  \n",
       "2  although the new covid weakens and dies over t...  \n",
       "3  corona means crown, and covides have a crown o...  \n",
       "4  experts say its due to cuts in federal funding...  "
      ]
     },
     "execution_count": 44,
     "metadata": {},
     "output_type": "execute_result"
    }
   ],
   "source": [
    "final_dataset.head()"
   ]
  },
  {
   "cell_type": "code",
   "execution_count": 45,
   "metadata": {},
   "outputs": [],
   "source": [
    "final_dataset.to_csv('final_dataset.csv')"
   ]
  },
  {
   "cell_type": "code",
   "execution_count": null,
   "metadata": {},
   "outputs": [],
   "source": []
  }
 ],
 "metadata": {
  "kernelspec": {
   "display_name": "Python 3",
   "language": "python",
   "name": "python3"
  },
  "language_info": {
   "codemirror_mode": {
    "name": "ipython",
    "version": 3
   },
   "file_extension": ".py",
   "mimetype": "text/x-python",
   "name": "python",
   "nbconvert_exporter": "python",
   "pygments_lexer": "ipython3",
   "version": "3.8.3"
  }
 },
 "nbformat": 4,
 "nbformat_minor": 4
}
